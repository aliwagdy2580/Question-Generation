{
  "nbformat": 4,
  "nbformat_minor": 0,
  "metadata": {
    "colab": {
      "provenance": [],
      "mount_file_id": "1PoNg1TiNNdo89m4yQ8IAGD_tN04TrxD8",
      "authorship_tag": "ABX9TyNq7LrW5DPWRh2My2um57Qg",
      "include_colab_link": true
    },
    "kernelspec": {
      "name": "python3",
      "display_name": "Python 3"
    },
    "language_info": {
      "name": "python"
    }
  },
  "cells": [
    {
      "cell_type": "markdown",
      "metadata": {
        "id": "view-in-github",
        "colab_type": "text"
      },
      "source": [
        "<a href=\"https://colab.research.google.com/github/aliwagdy2580/Question-Generation/blob/main/Questions_Generation_using_T5_.ipynb\" target=\"_parent\"><img src=\"https://colab.research.google.com/assets/colab-badge.svg\" alt=\"Open In Colab\"/></a>"
      ]
    },
    {
      "cell_type": "code",
      "source": [
        "pip install transformers"
      ],
      "metadata": {
        "colab": {
          "base_uri": "https://localhost:8080/"
        },
        "id": "9TG56x7IKK1m",
        "outputId": "ad6395dd-1cac-473d-8fb8-4734a673d1b4"
      },
      "execution_count": 30,
      "outputs": [
        {
          "output_type": "stream",
          "name": "stdout",
          "text": [
            "Looking in indexes: https://pypi.org/simple, https://us-python.pkg.dev/colab-wheels/public/simple/\n",
            "Requirement already satisfied: transformers in /usr/local/lib/python3.7/dist-packages (4.24.0)\n",
            "Requirement already satisfied: filelock in /usr/local/lib/python3.7/dist-packages (from transformers) (3.8.0)\n",
            "Requirement already satisfied: requests in /usr/local/lib/python3.7/dist-packages (from transformers) (2.23.0)\n",
            "Requirement already satisfied: importlib-metadata in /usr/local/lib/python3.7/dist-packages (from transformers) (4.13.0)\n",
            "Requirement already satisfied: regex!=2019.12.17 in /usr/local/lib/python3.7/dist-packages (from transformers) (2022.6.2)\n",
            "Requirement already satisfied: pyyaml>=5.1 in /usr/local/lib/python3.7/dist-packages (from transformers) (6.0)\n",
            "Requirement already satisfied: numpy>=1.17 in /usr/local/lib/python3.7/dist-packages (from transformers) (1.21.6)\n",
            "Requirement already satisfied: huggingface-hub<1.0,>=0.10.0 in /usr/local/lib/python3.7/dist-packages (from transformers) (0.10.1)\n",
            "Requirement already satisfied: packaging>=20.0 in /usr/local/lib/python3.7/dist-packages (from transformers) (21.3)\n",
            "Requirement already satisfied: tqdm>=4.27 in /usr/local/lib/python3.7/dist-packages (from transformers) (4.64.1)\n",
            "Requirement already satisfied: tokenizers!=0.11.3,<0.14,>=0.11.1 in /usr/local/lib/python3.7/dist-packages (from transformers) (0.13.1)\n",
            "Requirement already satisfied: typing-extensions>=3.7.4.3 in /usr/local/lib/python3.7/dist-packages (from huggingface-hub<1.0,>=0.10.0->transformers) (4.1.1)\n",
            "Requirement already satisfied: pyparsing!=3.0.5,>=2.0.2 in /usr/local/lib/python3.7/dist-packages (from packaging>=20.0->transformers) (3.0.9)\n",
            "Requirement already satisfied: zipp>=0.5 in /usr/local/lib/python3.7/dist-packages (from importlib-metadata->transformers) (3.10.0)\n",
            "Requirement already satisfied: idna<3,>=2.5 in /usr/local/lib/python3.7/dist-packages (from requests->transformers) (2.10)\n",
            "Requirement already satisfied: chardet<4,>=3.0.2 in /usr/local/lib/python3.7/dist-packages (from requests->transformers) (3.0.4)\n",
            "Requirement already satisfied: certifi>=2017.4.17 in /usr/local/lib/python3.7/dist-packages (from requests->transformers) (2022.9.24)\n",
            "Requirement already satisfied: urllib3!=1.25.0,!=1.25.1,<1.26,>=1.21.1 in /usr/local/lib/python3.7/dist-packages (from requests->transformers) (1.24.3)\n"
          ]
        }
      ]
    },
    {
      "cell_type": "code",
      "source": [
        "import pandas as pd\n",
        "import re\n",
        "import string\n",
        "import nltk\n",
        "nltk.download('punkt')\n",
        "nltk.download('wordnet')\n",
        "nltk.download('stopwords')\n",
        "from nltk.tokenize import sent_tokenize"
      ],
      "metadata": {
        "colab": {
          "base_uri": "https://localhost:8080/"
        },
        "id": "CLzs2FwGBk95",
        "outputId": "bd2d431f-f8d3-4ddf-f2b8-160d1d23354b"
      },
      "execution_count": 31,
      "outputs": [
        {
          "output_type": "stream",
          "name": "stderr",
          "text": [
            "[nltk_data] Downloading package punkt to /root/nltk_data...\n",
            "[nltk_data]   Package punkt is already up-to-date!\n",
            "[nltk_data] Downloading package wordnet to /root/nltk_data...\n",
            "[nltk_data]   Package wordnet is already up-to-date!\n",
            "[nltk_data] Downloading package stopwords to /root/nltk_data...\n",
            "[nltk_data]   Package stopwords is already up-to-date!\n"
          ]
        }
      ]
    },
    {
      "cell_type": "code",
      "source": [
        "path = '/content/text data.txt'\n",
        "with open(path, 'rb') as f:\n",
        "  dataset = f.read()\n",
        "dataset = dataset.decode(\"utf-8\")\n",
        "dataset[:1000]"
      ],
      "metadata": {
        "colab": {
          "base_uri": "https://localhost:8080/",
          "height": 110
        },
        "id": "3NNE0cxk_3xH",
        "outputId": "4baec76c-796f-4a2b-c5ec-d163ef775a57"
      },
      "execution_count": 75,
      "outputs": [
        {
          "output_type": "execute_result",
          "data": {
            "text/plain": [
              "'Deep learning (also known as deep structured learning) is part of a broader family of machine learning methods based on artificial neural networks with representation learning. Learning can be supervised, semi-supervised or unsupervised.[2]\\r\\n\\r\\nDeep-learning architectures such as deep neural networks, deep belief networks, deep reinforcement learning, recurrent neural networks, convolutional neural networks and Transformers have been applied to fields including computer vision, speech recognition, natural language processing, machine translation, bioinformatics, drug design, medical image analysis, climate science, material inspection and board game programs, where they have produced results comparable to and in some cases surpassing human expert performance.[3][4][5]\\r\\n\\r\\nArtificial neural networks (ANNs) were inspired by information processing and distributed communication nodes in biological systems. ANNs have various differences from biological brains. Specifically, artificial neural '"
            ],
            "application/vnd.google.colaboratory.intrinsic+json": {
              "type": "string"
            }
          },
          "metadata": {},
          "execution_count": 75
        }
      ]
    },
    {
      "cell_type": "markdown",
      "source": [
        "# text cleaning"
      ],
      "metadata": {
        "id": "QyXEL3MRB-2M"
      }
    },
    {
      "cell_type": "code",
      "source": [
        "# import librarys\n",
        "\n",
        "import re\n",
        "import string\n",
        "import nltk\n",
        "nltk.download('punkt')\n",
        "from nltk.tokenize import word_tokenize\n",
        "from nltk.corpus import stopwords\n",
        "\n",
        "nltk.download('stopwords')\n",
        "from nltk import PorterStemmer\n",
        "from nltk.stem import WordNetLemmatizer\n",
        "nltk.download('wordnet')\n",
        "import nltk\n",
        "\n",
        "\"\"\"#clean dataset\"\"\"\n",
        "\n",
        "stop_words = stopwords.words('english')\n",
        "\n",
        "\n",
        "def remove_non_ascii(text):\n",
        "    \"\"\"Remove non-ASCII characters from list of tokenized words\"\"\"\n",
        "    return text.encode('ascii', 'ignore').decode()\n",
        "\n",
        "\n",
        "def remove_brackets_num(text):\n",
        "    return re.sub(\"\\[.*?\\]\", \"\", text)\n",
        "\n",
        "\n",
        "def to_lowercase(text):\n",
        "    return text.lower()\n",
        "\n",
        "\n",
        "def replace_numbers(text):\n",
        "    \"\"\"Replace all interger occurrences in list of tokenized words with textual representation\"\"\"\n",
        "    return re.sub(r'\\d+', '', text)\n",
        "\n",
        "\n",
        "def remove_whitespace(text):\n",
        "    return text.strip()\n",
        "\n",
        "\n",
        "def remove_punctuation(text):\n",
        "    punctuation = '''!()[]{};:'\"\\<>/?$%^&*_`~='''\n",
        "    for punc in punctuation:\n",
        "        text = text.replace(punc, \"\")\n",
        "    return text\n",
        "\n",
        "\n",
        "def remove_emails(text):\n",
        "    return re.sub(r'[A-Za-z0-9]*@[A-Za-z]*\\.?[A-Za-z0-9]*', \"\", text)\n",
        "\n",
        "\n",
        "def text2words(text):\n",
        "    return word_tokenize(text)\n",
        "\n",
        "\n",
        "def remove_stopwords(words, stop_words):\n",
        "    return [word for word in words if word not in stop_words]\n",
        "\n",
        "\n",
        "def lemmatize_words(words):\n",
        "    \"\"\"Lemmatize words in text\"\"\"\n",
        "    lemmatizer = WordNetLemmatizer()\n",
        "    return [lemmatizer.lemmatize(word) for word in words]\n",
        "\n",
        "\n",
        "\n",
        "\n",
        "def NormalizeText(text):\n",
        "  text = remove_non_ascii(text)\n",
        "  text= remove_brackets_num(text)\n",
        "  text = to_lowercase(text)\n",
        "  text=replace_numbers(text)\n",
        "  text= remove_whitespace(text)\n",
        "  text = remove_punctuation(text)\n",
        "  text= remove_emails(text)\n",
        "  words = text2words(text)\n",
        "  #words = remove_stopwords(words, stop_words)\n",
        "  #words = lemmatize_words(words)\n",
        "\n",
        "  return ' '.join(words)\n"
      ],
      "metadata": {
        "colab": {
          "base_uri": "https://localhost:8080/"
        },
        "id": "QVmhE3HhA-xZ",
        "outputId": "b6f77f96-7eeb-4851-bd25-f0a0257f62e7"
      },
      "execution_count": 76,
      "outputs": [
        {
          "output_type": "stream",
          "name": "stderr",
          "text": [
            "[nltk_data] Downloading package punkt to /root/nltk_data...\n",
            "[nltk_data]   Package punkt is already up-to-date!\n",
            "[nltk_data] Downloading package stopwords to /root/nltk_data...\n",
            "[nltk_data]   Package stopwords is already up-to-date!\n",
            "[nltk_data] Downloading package wordnet to /root/nltk_data...\n",
            "[nltk_data]   Package wordnet is already up-to-date!\n"
          ]
        }
      ]
    },
    {
      "cell_type": "code",
      "source": [
        "text=NormalizeText(dataset)"
      ],
      "metadata": {
        "id": "ucJl5p4aBWoV"
      },
      "execution_count": 77,
      "outputs": []
    },
    {
      "cell_type": "code",
      "source": [
        "text"
      ],
      "metadata": {
        "colab": {
          "base_uri": "https://localhost:8080/",
          "height": 110
        },
        "id": "fA66ONXNBXuf",
        "outputId": "6d7fc630-0371-4cb6-859b-019af49cd344"
      },
      "execution_count": 78,
      "outputs": [
        {
          "output_type": "execute_result",
          "data": {
            "text/plain": [
              "'deep learning also known as deep structured learning is part of a broader family of machine learning methods based on artificial neural networks with representation learning . learning can be supervised , semi-supervised or unsupervised . deep-learning architectures such as deep neural networks , deep belief networks , deep reinforcement learning , recurrent neural networks , convolutional neural networks and transformers have been applied to fields including computer vision , speech recognition , natural language processing , machine translation , bioinformatics , drug design , medical image analysis , climate science , material inspection and board game programs , where they have produced results comparable to and in some cases surpassing human expert performance . artificial neural networks anns were inspired by information processing and distributed communication nodes in biological systems . anns have various differences from biological brains . specifically , artificial neural networks tend to be static and symbolic , while the biological brain of most living organisms is dynamic plastic and analogue . the adjective deep in deep learning refers to the use of multiple layers in the network . early work showed that a linear perceptron can not be a universal classifier , but that a network with a nonpolynomial activation function with one hidden layer of unbounded width can . deep learning is a modern variation which is concerned with an unbounded number of layers of bounded size , which permits practical application and optimized implementation , while retaining theoretical universality under mild conditions . in deep learning the layers are also permitted to be heterogeneous and to deviate widely from biologically informed connectionist models , for the sake of efficiency , trainability and understandability , hence the structured part . python is a high-level , general-purpose programming language . its design philosophy emphasizes code readability with the use of significant indentation . python is dynamically-typed and garbage-collected . it supports multiple programming paradigms , including structured particularly procedural , object-oriented and functional programming . it is often described as a batteries included language due to its comprehensive standard library . guido van rossum began working on python in the late s as a successor to the abc programming language and first released it in as python ... python . was released in and introduced new features such as list comprehensions , cycle-detecting garbage collection , reference counting , and unicode support . python . , released in , was a major revision that is not completely backward-compatible with earlier versions . python was discontinued with version .. in . python consistently ranks as one of the most popular programming languages . machine learning ml is a field of inquiry devoted to understanding and building methods that learn , that is , methods that leverage data to improve performance on some set of tasks . it is seen as a part of artificial intelligence . machine learning algorithms build a model based on sample data , known as training data , in order to make predictions or decisions without being explicitly programmed to do so . machine learning algorithms are used in a wide variety of applications , such as in medicine , email filtering , speech recognition , and computer vision , where it is difficult or unfeasible to develop conventional algorithms to perform the needed tasks . a subset of machine learning is closely related to computational statistics , which focuses on making predictions using computers , but not all machine learning is statistical learning . the study of mathematical optimization delivers methods , theory and application domains to the field of machine learning . data mining is a related field of study , focusing on exploratory data analysis through unsupervised learning . some implementations of machine learning use data and neural networks in a way that mimics the working of a biological brain . in its application across business problems , machine learning is also referred to as predictive analytics . mohamed salah hamed mahrous ghaly egyptian arabic pronunciation born june is an egyptian professional footballer who plays as a forward for premier league club liverpool and captains the egypt national team . considered one of the best players in the world and amongst the greatest african players of all time , he is known for his finishing , dribbling , and speed . salah started his senior career in playing for al mokawloon , departing in to join basel , where he won two swiss super league titles . in , salah joined chelsea for a reported fee of million , but limited gametime led to successive loans to fiorentina and roma , who later signed him permanently for million . in the season , salah was a key figure in romas title race against ultimate league winners juventus , reaching double figures in both goals and assists . in , salah signed for liverpool for a then-club record transfer of . million . in his first season , he set the record for most premier league goals scored in a -game season and helped liverpool to the uefa champions league final . salah went on to be an integral player in the clubs champions league and premier league title successes the following two seasons , and has since also won the fa cup and the league cup . salah has achieved numerous individual accolades , including two pfa players player of the year awards , three premier league golden boots , the premier league player of the season , the premier league playmaker of the season , and finished third for the best fifa mens player in and . he received the fifa pusks award for his winning strike in the first merseyside derby of the season . at international level , salah represented egypt at youth level before making his senior debut in . following his performances at the summer olympics , he was named caf most promising african talent of the year . since then , he finished as runner-up in the and africa cup of nations and was top scorer during caf qualification as egypt qualified for the fifa world cup . salah was named caf african footballer of the year and , bbc african footballer of the year and , and was selected in the africa cup of nations team of the tournament , africa cup of nations team of the tournament and the caf team of the year on several occasions .'"
            ],
            "application/vnd.google.colaboratory.intrinsic+json": {
              "type": "string"
            }
          },
          "metadata": {},
          "execution_count": 78
        }
      ]
    },
    {
      "cell_type": "markdown",
      "source": [
        "# keyword extraction\n"
      ],
      "metadata": {
        "id": "E2iBg_EPCGSY"
      }
    },
    {
      "cell_type": "code",
      "source": [
        "!pip install git+https://github.com/boudinfl/pke.git\n",
        "!pip install matplotlib\n",
        "!python -m spacy download en_core_web_sm"
      ],
      "metadata": {
        "id": "UXrA_sZ8A_6y"
      },
      "execution_count": null,
      "outputs": []
    },
    {
      "cell_type": "code",
      "source": [
        "\"\"\"# Keyword Extraction\"\"\"\n",
        "import pke\n",
        "import collections\n",
        "\n",
        "\n",
        "def topicRank(text):\n",
        "  # initialize keyphrase extraction model, here TopicRank\n",
        "  extractor = pke.unsupervised.TopicRank()\n",
        "\n",
        "  # load the content of the document, here document is expected to be in raw\n",
        "  # format (i.e. a simple text file) and preprocessing is carried out using spacy\n",
        "  extractor.load_document(input=text, language='en')\n",
        "\n",
        "  # keyphrase candidate selection, in the case of TopicRank: sequences of nouns\n",
        "  # and adjectives (i.e. `(Noun|Adj)*`)\n",
        "  extractor.candidate_selection()\n",
        "\n",
        "  # candidate weighting, in the case of TopicRank: using a random walk algorithm\n",
        "  extractor.candidate_weighting()\n",
        "\n",
        "  # N-best selection, keyphrases contains the 10 highest scored candidates as\n",
        "  # (keyphrase, score) tuples\n",
        "  keyphrases = extractor.get_n_best(n=10)\n",
        "  return [a_tuple[0] for a_tuple in keyphrases]\n",
        "\n",
        "def yake(text):\n",
        "  # initialize keyphrase extraction model, here TopicRank\n",
        "  extractor = pke.unsupervised.YAKE()\n",
        "\n",
        "  # load the content of the document, here document is expected to be in raw\n",
        "  # format (i.e. a simple text file) and preprocessing is carried out using spacy\n",
        "  extractor.load_document(input=text, language='en')\n",
        "\n",
        "  # keyphrase candidate selection, in the case of TopicRank: sequences of nouns\n",
        "  # and adjectives (i.e. `(Noun|Adj)*`)\n",
        "  extractor.candidate_selection()\n",
        "\n",
        "  # candidate weighting, in the case of TopicRank: using a random walk algorithm\n",
        "  extractor.candidate_weighting()\n",
        "\n",
        "  # N-best selection, keyphrases contains the 10 highest scored candidates as\n",
        "  # (keyphrase, score) tuples\n",
        "  keyphrases = extractor.get_n_best(n=10)\n",
        "  return [a_tuple[0] for a_tuple in keyphrases]\n",
        "\n",
        "def multipartiteRank(text):\n",
        "  # initialize keyphrase extraction model, here TopicRank\n",
        "  extractor = pke.unsupervised.MultipartiteRank()\n",
        "\n",
        "  # load the content of the document, here document is expected to be in raw\n",
        "  # format (i.e. a simple text file) and preprocessing is carried out using spacy\n",
        "  extractor.load_document(input=text, language='en')\n",
        "\n",
        "  # keyphrase candidate selection, in the case of TopicRank: sequences of nouns\n",
        "  # and adjectives (i.e. `(Noun|Adj)*`)\n",
        "  extractor.candidate_selection()\n",
        "\n",
        "  # candidate weighting, in the case of TopicRank: using a random walk algorithm\n",
        "  extractor.candidate_weighting()\n",
        "\n",
        "  # N-best selection, keyphrases contains the 10 highest scored candidates as\n",
        "  # (keyphrase, score) tuples\n",
        "  keyphrases = extractor.get_n_best(n=10)\n",
        "  return [a_tuple[0] for a_tuple in keyphrases]\n",
        "\n",
        "def TfIdf(text):\n",
        "  # initialize keyphrase extraction model, here TopicRank\n",
        "  extractor = pke.unsupervised.TfIdf()\n",
        "\n",
        "  # load the content of the document, here document is expected to be in raw\n",
        "  # format (i.e. a simple text file) and preprocessing is carried out using spacy\n",
        "  extractor.load_document(input=text, language='en' )\n",
        "\n",
        "  # keyphrase candidate selection, in the case of TopicRank: sequences of nouns\n",
        "  # and adjectives (i.e. `(Noun|Adj)*`)\n",
        "  extractor.candidate_selection()\n",
        "\n",
        "  # candidate weighting, in the case of TopicRank: using a random walk algorithm\n",
        "  extractor.candidate_weighting()\n",
        "\n",
        "  # N-best selection, keyphrases contains the 10 highest scored candidates as\n",
        "  # (keyphrase, score) tuples\n",
        "  keyphrases = extractor.get_n_best(n=10)\n",
        "  return [a_tuple[0] for a_tuple in keyphrases]\n",
        "\n",
        "\n",
        "def GetKeywords(text):\n",
        "  yakeKeyWords = yake(text)\n",
        "  topicRankKeyWords = topicRank(text)\n",
        "  multipartiteRankKeyWords = multipartiteRank(text)\n",
        "  tfidfKeyWords = TfIdf(text)\n",
        "  filteredKeys = yakeKeyWords + topicRankKeyWords + multipartiteRankKeyWords + tfidfKeyWords\n",
        "  #print([item for item, count in collections.Counter(filteredKeys).items() if count >= 3])\n",
        "\n",
        "  return [item for item, count in collections.Counter(filteredKeys).items() if count >= 2]"
      ],
      "metadata": {
        "id": "a6DyCTVvBYIT"
      },
      "execution_count": 98,
      "outputs": []
    },
    {
      "cell_type": "code",
      "source": [
        "keywords=GetKeywords(text)\n"
      ],
      "metadata": {
        "colab": {
          "base_uri": "https://localhost:8080/"
        },
        "id": "UOtsKMrKBIoX",
        "outputId": "dd5542d0-c97f-487e-ddf3-f10e943147e2"
      },
      "execution_count": 99,
      "outputs": [
        {
          "output_type": "stream",
          "name": "stderr",
          "text": [
            "WARNING:root:LoadFile._df_counts is hard coded to /usr/local/lib/python3.7/dist-packages/pke/models/df-semeval2010.tsv.gz\n"
          ]
        }
      ]
    },
    {
      "cell_type": "code",
      "source": [
        "keywords"
      ],
      "metadata": {
        "colab": {
          "base_uri": "https://localhost:8080/"
        },
        "id": "7fBao7i6Bb8k",
        "outputId": "650a5929-d2b1-43e4-abc9-68387e9b174e"
      },
      "execution_count": 100,
      "outputs": [
        {
          "output_type": "execute_result",
          "data": {
            "text/plain": [
              "['neural networks',\n",
              " 'artificial neural networks',\n",
              " 'deep',\n",
              " 'deep learning',\n",
              " 'league',\n",
              " 'neural',\n",
              " 'machine learning methods',\n",
              " 'salah',\n",
              " 'python',\n",
              " 'data',\n",
              " 'natural language processing',\n",
              " 'season',\n",
              " 'premier league club liverpool']"
            ]
          },
          "metadata": {},
          "execution_count": 100
        }
      ]
    },
    {
      "cell_type": "code",
      "source": [
        "#split data to context \n",
        "# Each context consists of 3 sentences\n",
        "context=[]\n",
        "sentences=sent_tokenize(text)\n",
        "count=len(sentences)%3\n",
        "for i in range(0,len(sentences)-count,3):\n",
        "  context.append(sentences[i]+sentences[i+1]+sentences[i+2])"
      ],
      "metadata": {
        "id": "1xUtJJngBJtF"
      },
      "execution_count": 101,
      "outputs": []
    },
    {
      "cell_type": "code",
      "source": [
        "# get context and answers \n",
        "# if the answer in context we will get answer and context\n",
        "all_context=[]\n",
        "all_answers=[]\n",
        "for keyword in keywords:\n",
        "  for contx in context:\n",
        "    if keyword in contx:\n",
        "      all_context.append(contx)\n",
        "      all_answers.append(keyword)"
      ],
      "metadata": {
        "id": "DpfgHEptBJvc"
      },
      "execution_count": 102,
      "outputs": []
    },
    {
      "cell_type": "code",
      "source": [
        "len(all_context)"
      ],
      "metadata": {
        "id": "A_DImkR2BYVc",
        "colab": {
          "base_uri": "https://localhost:8080/"
        },
        "outputId": "e66a2a36-f550-4cf1-d7f3-0325d8d934bc"
      },
      "execution_count": 103,
      "outputs": [
        {
          "output_type": "execute_result",
          "data": {
            "text/plain": [
              "35"
            ]
          },
          "metadata": {},
          "execution_count": 103
        }
      ]
    },
    {
      "cell_type": "code",
      "source": [
        "from sklearn.utils import shuffle\n",
        "all_context, all_answers = shuffle(all_context, all_answers)"
      ],
      "metadata": {
        "id": "0cUOqVVYNpHA"
      },
      "execution_count": 104,
      "outputs": []
    },
    {
      "cell_type": "markdown",
      "source": [
        "# t5 model"
      ],
      "metadata": {
        "id": "jj5vK4L8OH6t"
      }
    },
    {
      "cell_type": "code",
      "source": [
        "from transformers import T5ForConditionalGeneration,T5Tokenizer\n",
        "\n",
        "#T5 model size on disk ~ 900 MB\n",
        "question_model = T5ForConditionalGeneration.from_pretrained('ramsrigouthamg/t5_squad_v1')\n",
        "question_tokenizer = T5Tokenizer.from_pretrained('ramsrigouthamg/t5_squad_v1')\n",
        "\n",
        "def get_question(sentence,answer,mdl,tknizer):\n",
        "  text = \"context: {} answer: {}\".format(sentence,answer)\n",
        "  max_len = 512\n",
        "  encoding = tknizer.encode_plus(text,max_length=max_len, pad_to_max_length=False,truncation=True, return_tensors=\"pt\")\n",
        "\n",
        "  input_ids, attention_mask = encoding[\"input_ids\"], encoding[\"attention_mask\"]\n",
        "\n",
        "  outs = mdl.generate(input_ids=input_ids,\n",
        "                                  attention_mask=attention_mask,\n",
        "                                  early_stopping=True,\n",
        "                                  num_beams=5,\n",
        "                                  num_return_sequences=1,\n",
        "                                  no_repeat_ngram_size=2,\n",
        "                                  max_length=300)\n",
        "\n",
        "\n",
        "  dec = [tknizer.decode(ids,skip_special_tokens=True) for ids in outs]\n",
        "\n",
        "\n",
        "  Question = dec[0].replace(\"question:\",\"\")\n",
        "  Question= Question.strip()\n",
        "  return Question\n",
        "\n",
        "\n",
        "\n",
        "context = \"Manuel has created RuPERTa-base with the support of HF-Transformers and Google\"\n",
        "answer = \"Manuel\"\n",
        "\n",
        "get_question(context, answer, question_model, question_tokenizer)"
      ],
      "metadata": {
        "id": "YmB2N4QWBYbE",
        "colab": {
          "base_uri": "https://localhost:8080/",
          "height": 36
        },
        "outputId": "ee910e01-5c1a-42fc-8c45-130d4038a2b9"
      },
      "execution_count": 74,
      "outputs": [
        {
          "output_type": "execute_result",
          "data": {
            "text/plain": [
              "'Who created the RuPERTa-base?'"
            ],
            "application/vnd.google.colaboratory.intrinsic+json": {
              "type": "string"
            }
          },
          "metadata": {},
          "execution_count": 74
        }
      ]
    },
    {
      "cell_type": "code",
      "source": [
        "from transformers import T5ForConditionalGeneration,T5Tokenizer\n",
        "\n",
        "#T5 model size on disk ~ 900 MB\n",
        "question_model = T5ForConditionalGeneration.from_pretrained('ramsrigouthamg/t5_squad_v1')\n",
        "question_tokenizer = T5Tokenizer.from_pretrained('ramsrigouthamg/t5_squad_v1')\n",
        "\n",
        "def get_question(sentence,answer,mdl,tknizer):\n",
        "  text = \"context: {} answer: {}\".format(sentence,answer)\n",
        "  max_len = 512\n",
        "  encoding = tknizer.encode_plus(text,max_length=max_len, pad_to_max_length=False,truncation=True, return_tensors=\"pt\")\n",
        "\n",
        "  input_ids, attention_mask = encoding[\"input_ids\"], encoding[\"attention_mask\"]\n",
        "\n",
        "  outs = mdl.generate(input_ids=input_ids,\n",
        "                                  attention_mask=attention_mask,\n",
        "                                  early_stopping=True,\n",
        "                                  num_beams=5,\n",
        "                                  num_return_sequences=1,\n",
        "                                  no_repeat_ngram_size=2,\n",
        "                                  max_length=300)\n",
        "\n",
        "\n",
        "  dec = [tknizer.decode(ids,skip_special_tokens=True) for ids in outs]\n",
        "\n",
        "\n",
        "  Question = dec[0].replace(\"question:\",\"\")\n",
        "  Question= Question.strip()\n",
        "  return Question\n",
        "\n",
        "\n",
        "\n",
        "def GetQuestgions(context,answers):\n",
        "    questions=[]\n",
        "    for i in range(20):\n",
        "        ques = get_question(context[i], answers[i], question_model, question_tokenizer)\n",
        "        questions.append(ques)\n",
        "    return questions\n"
      ],
      "metadata": {
        "id": "hxmoe-2VTHYt"
      },
      "execution_count": 105,
      "outputs": []
    },
    {
      "cell_type": "code",
      "source": [
        "#get questions\n",
        "t5_questions=GetQuestgions(all_context,all_answers)"
      ],
      "metadata": {
        "id": "tf8zGYsfMruG"
      },
      "execution_count": 106,
      "outputs": []
    },
    {
      "cell_type": "code",
      "source": [
        "for i in range(len(t5_questions)):\n",
        "  print(\"context : \",all_context[i])\n",
        "  print(\"question : \",t5_questions[i])\n",
        "  print(\"answer : \",all_answers[i])\n",
        "  print(\"\\n\",\"-----------------------------------------------------------------------------------------------------\",\"\\n\")"
      ],
      "metadata": {
        "id": "Yi8sg0lPMrxP",
        "colab": {
          "base_uri": "https://localhost:8080/"
        },
        "outputId": "f92520c2-66fc-4cdd-d424-b64e6919b8ae"
      },
      "execution_count": 107,
      "outputs": [
        {
          "output_type": "stream",
          "name": "stdout",
          "text": [
            "context :  data mining is a related field of study , focusing on exploratory data analysis through unsupervised learning .some implementations of machine learning use data and neural networks in a way that mimics the working of a biological brain .in its application across business problems , machine learning is also referred to as predictive analytics .\n",
            "question :  Some implementations of machine learning use data and what?\n",
            "answer :  neural networks\n",
            "\n",
            " ----------------------------------------------------------------------------------------------------- \n",
            "\n",
            "context :  deep learning also known as deep structured learning is part of a broader family of machine learning methods based on artificial neural networks with representation learning .learning can be supervised , semi-supervised or unsupervised .deep-learning architectures such as deep neural networks , deep belief networks , deep reinforcement learning , recurrent neural networks , convolutional neural networks and transformers have been applied to fields including computer vision , speech recognition , natural language processing , machine translation , bioinformatics , drug design , medical image analysis , climate science , material inspection and board game programs , where they have produced results comparable to and in some cases surpassing human expert performance .\n",
            "question :  Deep structured learning is part of what broader family?\n",
            "answer :  machine learning methods\n",
            "\n",
            " ----------------------------------------------------------------------------------------------------- \n",
            "\n",
            "context :  data mining is a related field of study , focusing on exploratory data analysis through unsupervised learning .some implementations of machine learning use data and neural networks in a way that mimics the working of a biological brain .in its application across business problems , machine learning is also referred to as predictive analytics .\n",
            "question :  Some implementations of machine learning use data and what kind of networks?\n",
            "answer :  neural\n",
            "\n",
            " ----------------------------------------------------------------------------------------------------- \n",
            "\n",
            "context :  in deep learning the layers are also permitted to be heterogeneous and to deviate widely from biologically informed connectionist models , for the sake of efficiency , trainability and understandability , hence the structured part .python is a high-level , general-purpose programming language .its design philosophy emphasizes code readability with the use of significant indentation .\n",
            "question :  Layers are allowed to be heterogeneous and to deviate widely from biologically informed connectionist models in what kind of learning?\n",
            "answer :  deep learning\n",
            "\n",
            " ----------------------------------------------------------------------------------------------------- \n",
            "\n",
            "context :  artificial neural networks anns were inspired by information processing and distributed communication nodes in biological systems .anns have various differences from biological brains .specifically , artificial neural networks tend to be static and symbolic , while the biological brain of most living organisms is dynamic plastic and analogue .\n",
            "question :  What type of networks are inspired by information processing and distributed communication nodes in biological systems?\n",
            "answer :  neural networks\n",
            "\n",
            " ----------------------------------------------------------------------------------------------------- \n",
            "\n",
            "context :  data mining is a related field of study , focusing on exploratory data analysis through unsupervised learning .some implementations of machine learning use data and neural networks in a way that mimics the working of a biological brain .in its application across business problems , machine learning is also referred to as predictive analytics .\n",
            "question :  What is a related field of study?\n",
            "answer :  data\n",
            "\n",
            " ----------------------------------------------------------------------------------------------------- \n",
            "\n",
            "context :  mohamed salah hamed mahrous ghaly egyptian arabic pronunciation born june is an egyptian professional footballer who plays as a forward for premier league club liverpool and captains the egypt national team .considered one of the best players in the world and amongst the greatest african players of all time , he is known for his finishing , dribbling , and speed .salah started his senior career in playing for al mokawloon , departing in to join basel , where he won two swiss super league titles .\n",
            "question :  What football club does salah play for?\n",
            "answer :  premier league club liverpool\n",
            "\n",
            " ----------------------------------------------------------------------------------------------------- \n",
            "\n",
            "context :  the adjective deep in deep learning refers to the use of multiple layers in the network .early work showed that a linear perceptron can not be a universal classifier , but that a network with a nonpolynomial activation function with one hidden layer of unbounded width can .deep learning is a modern variation which is concerned with an unbounded number of layers of bounded size , which permits practical application and optimized implementation , while retaining theoretical universality under mild conditions .\n",
            "question :  What adjective refers to the use of multiple layers in the network?\n",
            "answer :  deep\n",
            "\n",
            " ----------------------------------------------------------------------------------------------------- \n",
            "\n",
            "context :  salah has achieved numerous individual accolades , including two pfa players player of the year awards , three premier league golden boots , the premier league player of the season , the premier league playmaker of the season , and finished third for the best fifa mens player in and .he received the fifa pusks award for his winning strike in the first merseyside derby of the season .at international level , salah represented egypt at youth level before making his senior debut in .\n",
            "question :  What season was salah the premier league player of the year?\n",
            "answer :  season\n",
            "\n",
            " ----------------------------------------------------------------------------------------------------- \n",
            "\n",
            "context :  guido van rossum began working on python in the late s as a successor to the abc programming language and first released it in as python ... python .was released in and introduced new features such as list comprehensions , cycle-detecting garbage collection , reference counting , and unicode support .python .\n",
            "question :  What did guido van rossum first release as?\n",
            "answer :  python\n",
            "\n",
            " ----------------------------------------------------------------------------------------------------- \n",
            "\n",
            "context :  machine learning ml is a field of inquiry devoted to understanding and building methods that learn , that is , methods that leverage data to improve performance on some set of tasks .it is seen as a part of artificial intelligence .machine learning algorithms build a model based on sample data , known as training data , in order to make predictions or decisions without being explicitly programmed to do so .\n",
            "question :  What do machine learning algorithms leverage to improve performance?\n",
            "answer :  data\n",
            "\n",
            " ----------------------------------------------------------------------------------------------------- \n",
            "\n",
            "context :  million .in his first season , he set the record for most premier league goals scored in a -game season and helped liverpool to the uefa champions league final .salah went on to be an integral player in the clubs champions league and premier league title successes the following two seasons , and has since also won the fa cup and the league cup .\n",
            "question :  Who helped liverpool to the uefa champions league final?\n",
            "answer :  salah\n",
            "\n",
            " ----------------------------------------------------------------------------------------------------- \n",
            "\n",
            "context :  in , salah joined chelsea for a reported fee of million , but limited gametime led to successive loans to fiorentina and roma , who later signed him permanently for million .in the season , salah was a key figure in romas title race against ultimate league winners juventus , reaching double figures in both goals and assists .in , salah signed for liverpool for a then-club record transfer of .\n",
            "question :  In what season was salah a key figure in romas title race?\n",
            "answer :  season\n",
            "\n",
            " ----------------------------------------------------------------------------------------------------- \n",
            "\n",
            "context :  following his performances at the summer olympics , he was named caf most promising african talent of the year .since then , he finished as runner-up in the and africa cup of nations and was top scorer during caf qualification as egypt qualified for the fifa world cup .salah was named caf african footballer of the year and , bbc african footballer of the year and , and was selected in the africa cup of nations team of the tournament , africa cup of nations team of the tournament and the caf team of the year on several occasions .\n",
            "question :  Who was named caf african footballer of the year?\n",
            "answer :  salah\n",
            "\n",
            " ----------------------------------------------------------------------------------------------------- \n",
            "\n",
            "context :  deep learning also known as deep structured learning is part of a broader family of machine learning methods based on artificial neural networks with representation learning .learning can be supervised , semi-supervised or unsupervised .deep-learning architectures such as deep neural networks , deep belief networks , deep reinforcement learning , recurrent neural networks , convolutional neural networks and transformers have been applied to fields including computer vision , speech recognition , natural language processing , machine translation , bioinformatics , drug design , medical image analysis , climate science , material inspection and board game programs , where they have produced results comparable to and in some cases surpassing human expert performance .\n",
            "question :  What is part of a broader family of machine learning methods?\n",
            "answer :  deep learning\n",
            "\n",
            " ----------------------------------------------------------------------------------------------------- \n",
            "\n",
            "context :  mohamed salah hamed mahrous ghaly egyptian arabic pronunciation born june is an egyptian professional footballer who plays as a forward for premier league club liverpool and captains the egypt national team .considered one of the best players in the world and amongst the greatest african players of all time , he is known for his finishing , dribbling , and speed .salah started his senior career in playing for al mokawloon , departing in to join basel , where he won two swiss super league titles .\n",
            "question :  What league is salah a part of?\n",
            "answer :  league\n",
            "\n",
            " ----------------------------------------------------------------------------------------------------- \n",
            "\n",
            "context :  in deep learning the layers are also permitted to be heterogeneous and to deviate widely from biologically informed connectionist models , for the sake of efficiency , trainability and understandability , hence the structured part .python is a high-level , general-purpose programming language .its design philosophy emphasizes code readability with the use of significant indentation .\n",
            "question :  In what kind of learning are layers allowed to be heterogeneous?\n",
            "answer :  deep\n",
            "\n",
            " ----------------------------------------------------------------------------------------------------- \n",
            "\n",
            "context :  million .in his first season , he set the record for most premier league goals scored in a -game season and helped liverpool to the uefa champions league final .salah went on to be an integral player in the clubs champions league and premier league title successes the following two seasons , and has since also won the fa cup and the league cup .\n",
            "question :  In what season did Salah set the record for most goals scored in a -game season?\n",
            "answer :  season\n",
            "\n",
            " ----------------------------------------------------------------------------------------------------- \n",
            "\n",
            "context :  artificial neural networks anns were inspired by information processing and distributed communication nodes in biological systems .anns have various differences from biological brains .specifically , artificial neural networks tend to be static and symbolic , while the biological brain of most living organisms is dynamic plastic and analogue .\n",
            "question :  What type of network are anns inspired by?\n",
            "answer :  neural\n",
            "\n",
            " ----------------------------------------------------------------------------------------------------- \n",
            "\n",
            "context :  in , salah joined chelsea for a reported fee of million , but limited gametime led to successive loans to fiorentina and roma , who later signed him permanently for million .in the season , salah was a key figure in romas title race against ultimate league winners juventus , reaching double figures in both goals and assists .in , salah signed for liverpool for a then-club record transfer of .\n",
            "question :  In what league was salah a key figure in roma's title race against juventus?\n",
            "answer :  league\n",
            "\n",
            " ----------------------------------------------------------------------------------------------------- \n",
            "\n"
          ]
        }
      ]
    },
    {
      "cell_type": "markdown",
      "source": [
        "# t5-base"
      ],
      "metadata": {
        "id": "LfyB-PL9ORnY"
      }
    },
    {
      "cell_type": "code",
      "source": [
        "from transformers import AutoModelWithLMHead, AutoTokenizer\n",
        "\n",
        "t5_base_tokenizer = AutoTokenizer.from_pretrained(\"mrm8488/t5-base-finetuned-question-generation-ap\")\n",
        "t5_base_model = AutoModelWithLMHead.from_pretrained(\"mrm8488/t5-base-finetuned-question-generation-ap\")\n",
        "\n",
        "def get_question(answer, context, max_length=64):\n",
        "  input_text = \"answer: %s  context: %s </s>\" % (answer, context)\n",
        "  features = t5_base_tokenizer([input_text], return_tensors='pt')\n",
        "\n",
        "  output = t5_base_model.generate(input_ids=features['input_ids'], \n",
        "               attention_mask=features['attention_mask'],\n",
        "               max_length=max_length)\n",
        "\n",
        "  return t5_base_tokenizer.decode(output[0])\n",
        "\n",
        "context = \"Manuel has created RuPERTa-base with the support of HF-Transformers and Google\"\n",
        "answer = \"Manuel\"\n",
        "\n",
        "get_question(answer, context)"
      ],
      "metadata": {
        "id": "MQ3_m3oiBYdk",
        "colab": {
          "base_uri": "https://localhost:8080/",
          "height": 110
        },
        "outputId": "d86d8587-1df1-4811-988e-a4f18099cffa"
      },
      "execution_count": 45,
      "outputs": [
        {
          "output_type": "stream",
          "name": "stderr",
          "text": [
            "The `xla_device` argument has been deprecated in v4.4.0 of Transformers. It is ignored and you can safely remove it from your `config.json` file.\n",
            "The `xla_device` argument has been deprecated in v4.4.0 of Transformers. It is ignored and you can safely remove it from your `config.json` file.\n",
            "The `xla_device` argument has been deprecated in v4.4.0 of Transformers. It is ignored and you can safely remove it from your `config.json` file.\n",
            "The `xla_device` argument has been deprecated in v4.4.0 of Transformers. It is ignored and you can safely remove it from your `config.json` file.\n"
          ]
        },
        {
          "output_type": "execute_result",
          "data": {
            "text/plain": [
              "'<pad> question: Who created the RuPERTa-base?</s>'"
            ],
            "application/vnd.google.colaboratory.intrinsic+json": {
              "type": "string"
            }
          },
          "metadata": {},
          "execution_count": 45
        }
      ]
    },
    {
      "cell_type": "code",
      "source": [
        "def get_question(sentence,answer,mdl,tknizer):\n",
        "  text = \"context: {} answer: {}\".format(sentence,answer)\n",
        "  max_len = 512\n",
        "  encoding = tknizer.encode_plus(text,max_length=max_len, pad_to_max_length=False,truncation=True, return_tensors=\"pt\")\n",
        "\n",
        "  input_ids, attention_mask = encoding[\"input_ids\"], encoding[\"attention_mask\"]\n",
        "\n",
        "  outs = mdl.generate(input_ids=input_ids,\n",
        "                                  attention_mask=attention_mask,\n",
        "                                  early_stopping=True,\n",
        "                                  num_beams=5,\n",
        "                                  num_return_sequences=1,\n",
        "                                  no_repeat_ngram_size=2,\n",
        "                                  max_length=300)\n",
        "\n",
        "\n",
        "  dec = [tknizer.decode(ids,skip_special_tokens=True) for ids in outs]\n",
        "\n",
        "\n",
        "  Question = dec[0].replace(\"question:\",\"\")\n",
        "  Question= Question.strip()\n",
        "  return Question\n",
        "\n",
        "\n",
        "\n",
        "def GetQuestgions(context,answers):\n",
        "    questions=[]\n",
        "    for i in range(20):\n",
        "        ques = get_question(context[i], answers[i], t5_base_model, t5_base_tokenizer)\n",
        "        questions.append(ques)\n",
        "    return questions\n"
      ],
      "metadata": {
        "id": "R7VAHnGDBYgO"
      },
      "execution_count": 108,
      "outputs": []
    },
    {
      "cell_type": "code",
      "source": [
        "#get questions\n",
        "t5_base_questions=GetQuestgions(all_context,all_answers)"
      ],
      "metadata": {
        "id": "lUEVqBzBBYit"
      },
      "execution_count": 109,
      "outputs": []
    },
    {
      "cell_type": "code",
      "source": [
        "for i in range(len(t5_base_questions)):\n",
        "  print(\"context : \",all_context[i])\n",
        "  print(\"question : \",t5_base_questions[i])\n",
        "  print(\"answer : \",all_answers[i])\n",
        "  print(\"\\n\",\"-----------------------------------------------------------------------------------------------------\",\"\\n\")"
      ],
      "metadata": {
        "id": "UhNu2V4JBYl5",
        "colab": {
          "base_uri": "https://localhost:8080/"
        },
        "outputId": "f21a8a96-6a3b-41ce-fc63-f38a5ddd28c0"
      },
      "execution_count": 110,
      "outputs": [
        {
          "output_type": "stream",
          "name": "stdout",
          "text": [
            "context :  data mining is a related field of study , focusing on exploratory data analysis through unsupervised learning .some implementations of machine learning use data and neural networks in a way that mimics the working of a biological brain .in its application across business problems , machine learning is also referred to as predictive analytics .\n",
            "question :  Some implementations of machine learning use data and what?\n",
            "answer :  neural networks\n",
            "\n",
            " ----------------------------------------------------------------------------------------------------- \n",
            "\n",
            "context :  deep learning also known as deep structured learning is part of a broader family of machine learning methods based on artificial neural networks with representation learning .learning can be supervised , semi-supervised or unsupervised .deep-learning architectures such as deep neural networks , deep belief networks , deep reinforcement learning , recurrent neural networks , convolutional neural networks and transformers have been applied to fields including computer vision , speech recognition , natural language processing , machine translation , bioinformatics , drug design , medical image analysis , climate science , material inspection and board game programs , where they have produced results comparable to and in some cases surpassing human expert performance .\n",
            "question :  Deep structured learning is part of a broader family of what?\n",
            "answer :  machine learning methods\n",
            "\n",
            " ----------------------------------------------------------------------------------------------------- \n",
            "\n",
            "context :  data mining is a related field of study , focusing on exploratory data analysis through unsupervised learning .some implementations of machine learning use data and neural networks in a way that mimics the working of a biological brain .in its application across business problems , machine learning is also referred to as predictive analytics .\n",
            "question :  What type of networks do implementations of machine learning use?\n",
            "answer :  neural\n",
            "\n",
            " ----------------------------------------------------------------------------------------------------- \n",
            "\n",
            "context :  in deep learning the layers are also permitted to be heterogeneous and to deviate widely from biologically informed connectionist models , for the sake of efficiency , trainability and understandability , hence the structured part .python is a high-level , general-purpose programming language .its design philosophy emphasizes code readability with the use of significant indentation .\n",
            "question :  What type of learning is allowed to be heterogeneous?\n",
            "answer :  deep learning\n",
            "\n",
            " ----------------------------------------------------------------------------------------------------- \n",
            "\n",
            "context :  artificial neural networks anns were inspired by information processing and distributed communication nodes in biological systems .anns have various differences from biological brains .specifically , artificial neural networks tend to be static and symbolic , while the biological brain of most living organisms is dynamic plastic and analogue .\n",
            "question :  Anns were inspired by information processing and distributed communication nodes in biological systems.\n",
            "answer :  neural networks\n",
            "\n",
            " ----------------------------------------------------------------------------------------------------- \n",
            "\n",
            "context :  data mining is a related field of study , focusing on exploratory data analysis through unsupervised learning .some implementations of machine learning use data and neural networks in a way that mimics the working of a biological brain .in its application across business problems , machine learning is also referred to as predictive analytics .\n",
            "question :  What is a related field of study?\n",
            "answer :  data\n",
            "\n",
            " ----------------------------------------------------------------------------------------------------- \n",
            "\n",
            "context :  mohamed salah hamed mahrous ghaly egyptian arabic pronunciation born june is an egyptian professional footballer who plays as a forward for premier league club liverpool and captains the egypt national team .considered one of the best players in the world and amongst the greatest african players of all time , he is known for his finishing , dribbling , and speed .salah started his senior career in playing for al mokawloon , departing in to join basel , where he won two swiss super league titles .\n",
            "question :  What club does salah play for?\n",
            "answer :  premier league club liverpool\n",
            "\n",
            " ----------------------------------------------------------------------------------------------------- \n",
            "\n",
            "context :  the adjective deep in deep learning refers to the use of multiple layers in the network .early work showed that a linear perceptron can not be a universal classifier , but that a network with a nonpolynomial activation function with one hidden layer of unbounded width can .deep learning is a modern variation which is concerned with an unbounded number of layers of bounded size , which permits practical application and optimized implementation , while retaining theoretical universality under mild conditions .\n",
            "question :  The use of multiple layers in the network is called what?\n",
            "answer :  deep\n",
            "\n",
            " ----------------------------------------------------------------------------------------------------- \n",
            "\n",
            "context :  salah has achieved numerous individual accolades , including two pfa players player of the year awards , three premier league golden boots , the premier league player of the season , the premier league playmaker of the season , and finished third for the best fifa mens player in and .he received the fifa pusks award for his winning strike in the first merseyside derby of the season .at international level , salah represented egypt at youth level before making his senior debut in .\n",
            "question :  What season did salah make his senior debut?\n",
            "answer :  season\n",
            "\n",
            " ----------------------------------------------------------------------------------------------------- \n",
            "\n",
            "context :  guido van rossum began working on python in the late s as a successor to the abc programming language and first released it in as python ... python .was released in and introduced new features such as list comprehensions , cycle-detecting garbage collection , reference counting , and unicode support .python .\n",
            "question :  What language did guido van rossum first work on?\n",
            "answer :  python\n",
            "\n",
            " ----------------------------------------------------------------------------------------------------- \n",
            "\n",
            "context :  machine learning ml is a field of inquiry devoted to understanding and building methods that learn , that is , methods that leverage data to improve performance on some set of tasks .it is seen as a part of artificial intelligence .machine learning algorithms build a model based on sample data , known as training data , in order to make predictions or decisions without being explicitly programmed to do so .\n",
            "question :  What is training data?\n",
            "answer :  data\n",
            "\n",
            " ----------------------------------------------------------------------------------------------------- \n",
            "\n",
            "context :  million .in his first season , he set the record for most premier league goals scored in a -game season and helped liverpool to the uefa champions league final .salah went on to be an integral player in the clubs champions league and premier league title successes the following two seasons , and has since also won the fa cup and the league cup .\n",
            "question :  How many premier league titles has salah won?\n",
            "answer :  salah\n",
            "\n",
            " ----------------------------------------------------------------------------------------------------- \n",
            "\n",
            "context :  in , salah joined chelsea for a reported fee of million , but limited gametime led to successive loans to fiorentina and roma , who later signed him permanently for million .in the season , salah was a key figure in romas title race against ultimate league winners juventus , reaching double figures in both goals and assists .in , salah signed for liverpool for a then-club record transfer of .\n",
            "question :  In what season did salah join liverpool?\n",
            "answer :  season\n",
            "\n",
            " ----------------------------------------------------------------------------------------------------- \n",
            "\n",
            "context :  following his performances at the summer olympics , he was named caf most promising african talent of the year .since then , he finished as runner-up in the and africa cup of nations and was top scorer during caf qualification as egypt qualified for the fifa world cup .salah was named caf african footballer of the year and , bbc african footballer of the year and , and was selected in the africa cup of nations team of the tournament , africa cup of nations team of the tournament and the caf team of the year on several occasions .\n",
            "question :  What was salah named caf african footballer of the year?\n",
            "answer :  salah\n",
            "\n",
            " ----------------------------------------------------------------------------------------------------- \n",
            "\n",
            "context :  deep learning also known as deep structured learning is part of a broader family of machine learning methods based on artificial neural networks with representation learning .learning can be supervised , semi-supervised or unsupervised .deep-learning architectures such as deep neural networks , deep belief networks , deep reinforcement learning , recurrent neural networks , convolutional neural networks and transformers have been applied to fields including computer vision , speech recognition , natural language processing , machine translation , bioinformatics , drug design , medical image analysis , climate science , material inspection and board game programs , where they have produced results comparable to and in some cases surpassing human expert performance .\n",
            "question :  What is deep structured learning?\n",
            "answer :  deep learning\n",
            "\n",
            " ----------------------------------------------------------------------------------------------------- \n",
            "\n",
            "context :  mohamed salah hamed mahrous ghaly egyptian arabic pronunciation born june is an egyptian professional footballer who plays as a forward for premier league club liverpool and captains the egypt national team .considered one of the best players in the world and amongst the greatest african players of all time , he is known for his finishing , dribbling , and speed .salah started his senior career in playing for al mokawloon , departing in to join basel , where he won two swiss super league titles .\n",
            "question :  How many swiss super league titles did salah win?\n",
            "answer :  league\n",
            "\n",
            " ----------------------------------------------------------------------------------------------------- \n",
            "\n",
            "context :  in deep learning the layers are also permitted to be heterogeneous and to deviate widely from biologically informed connectionist models , for the sake of efficiency , trainability and understandability , hence the structured part .python is a high-level , general-purpose programming language .its design philosophy emphasizes code readability with the use of significant indentation .\n",
            "question :  What type of learning is allowed to be heterogeneous?\n",
            "answer :  deep\n",
            "\n",
            " ----------------------------------------------------------------------------------------------------- \n",
            "\n",
            "context :  million .in his first season , he set the record for most premier league goals scored in a -game season and helped liverpool to the uefa champions league final .salah went on to be an integral player in the clubs champions league and premier league title successes the following two seasons , and has since also won the fa cup and the league cup .\n",
            "question :  In what season did Salah win the fa cup and league cup?\n",
            "answer :  season\n",
            "\n",
            " ----------------------------------------------------------------------------------------------------- \n",
            "\n",
            "context :  artificial neural networks anns were inspired by information processing and distributed communication nodes in biological systems .anns have various differences from biological brains .specifically , artificial neural networks tend to be static and symbolic , while the biological brain of most living organisms is dynamic plastic and analogue .\n",
            "question :  What type of network are anns inspired by?\n",
            "answer :  neural\n",
            "\n",
            " ----------------------------------------------------------------------------------------------------- \n",
            "\n",
            "context :  in , salah joined chelsea for a reported fee of million , but limited gametime led to successive loans to fiorentina and roma , who later signed him permanently for million .in the season , salah was a key figure in romas title race against ultimate league winners juventus , reaching double figures in both goals and assists .in , salah signed for liverpool for a then-club record transfer of .\n",
            "question :  What club did salah join liverpool for?\n",
            "answer :  league\n",
            "\n",
            " ----------------------------------------------------------------------------------------------------- \n",
            "\n"
          ]
        }
      ]
    },
    {
      "cell_type": "code",
      "source": [],
      "metadata": {
        "id": "o0edIxfHBYoP"
      },
      "execution_count": null,
      "outputs": []
    },
    {
      "cell_type": "code",
      "source": [],
      "metadata": {
        "id": "JtIyPRb1BYqm"
      },
      "execution_count": null,
      "outputs": []
    },
    {
      "cell_type": "code",
      "source": [],
      "metadata": {
        "id": "jQH5gAEYBYtH"
      },
      "execution_count": null,
      "outputs": []
    },
    {
      "cell_type": "code",
      "source": [],
      "metadata": {
        "id": "y-JtlMU2BYwp"
      },
      "execution_count": null,
      "outputs": []
    },
    {
      "cell_type": "code",
      "source": [],
      "metadata": {
        "id": "leu3858LBYzG"
      },
      "execution_count": null,
      "outputs": []
    },
    {
      "cell_type": "code",
      "source": [],
      "metadata": {
        "id": "-NtgI8SGBY1k"
      },
      "execution_count": null,
      "outputs": []
    },
    {
      "cell_type": "code",
      "source": [],
      "metadata": {
        "id": "iOCfNxKdBY3Z"
      },
      "execution_count": null,
      "outputs": []
    }
  ]
}